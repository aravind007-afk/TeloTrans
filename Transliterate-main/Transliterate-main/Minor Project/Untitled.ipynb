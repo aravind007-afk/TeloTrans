{
 "cells": [
  {
   "cell_type": "code",
   "execution_count": 30,
   "id": "da244434-2449-467c-a8e5-b714251b5047",
   "metadata": {},
   "outputs": [],
   "source": [
    "import tensorflow as tf"
   ]
  },
  {
   "cell_type": "code",
   "execution_count": 31,
   "id": "1f4dda55-ea47-479b-9dca-908eb3008642",
   "metadata": {},
   "outputs": [
    {
     "name": "stdout",
     "output_type": "stream",
     "text": [
      "2.10.0\n"
     ]
    }
   ],
   "source": [
    "print(tf.__version__)"
   ]
  },
  {
   "cell_type": "code",
   "execution_count": 32,
   "id": "5626b7cc-521c-4483-813a-8a3cdf6a3a8e",
   "metadata": {},
   "outputs": [],
   "source": [
    "import tensorflow as tf\n",
    "from tensorflow.keras.models import load_model\n",
    "from tensorflow.keras.preprocessing.sequence import pad_sequences\n",
    "import pickle\n"
   ]
  },
  {
   "cell_type": "code",
   "execution_count": 33,
   "id": "ed8b3d78-9ae4-4d86-b779-669cfe0fefa1",
   "metadata": {},
   "outputs": [],
   "source": [
    "model_path = r\"./translatortest/Model/\""
   ]
  },
  {
   "cell_type": "code",
   "execution_count": 34,
   "id": "17869d5c-b718-4af3-a4e8-d46c60fbd876",
   "metadata": {},
   "outputs": [],
   "source": [
    "tokenizer_path = r\"./translatortest/char_tokenizer.pkl\""
   ]
  },
  {
   "cell_type": "code",
   "execution_count": 35,
   "id": "1a9f06a6-cfa2-45dc-a4f9-8e6069bbb27a",
   "metadata": {},
   "outputs": [],
   "source": [
    "with open(tokenizer_path, 'rb') as file:\n",
    "    char_tokenizer = pickle.load(file)\n"
   ]
  },
  {
   "cell_type": "code",
   "execution_count": 36,
   "id": "bf2b9f15-d39a-4afd-be35-efcaee916f29",
   "metadata": {},
   "outputs": [],
   "source": [
    "import numpy as np\n",
    "model = tf.keras.models.load_model(model_path)\n",
    "max_source_len = 88  # Adjust these values based on training parameters\n",
    "max_target_len = 146 # Adjust these values based on training parameters\n"
   ]
  },
  {
   "cell_type": "code",
   "execution_count": 37,
   "id": "66ba1f41-14ec-47d3-9256-61a2ff213b36",
   "metadata": {},
   "outputs": [],
   "source": [
    "def decode_sequence(input_seq):\n",
    "    start_token = char_tokenizer.texts_to_sequences(['<start>'])[0][0]\n",
    "    decoder_input_seq = np.zeros((1, max_target_len))\n",
    "    decoder_input_seq[0, 0] = start_token\n",
    "\n",
    "    decoded_words = []\n",
    "    for t in range(max_target_len):\n",
    "        prediction = model.predict([input_seq, decoder_input_seq])\n",
    "        predicted_char_index = np.argmax(prediction[0, t, :])\n",
    "        predicted_char = char_tokenizer.index_word.get(predicted_char_index, '')\n",
    "\n",
    "        if predicted_char == '<end>' or predicted_char == '':\n",
    "            break\n",
    "\n",
    "        decoded_words.append(predicted_char)\n",
    "        decoder_input_seq[0, t + 1] = predicted_char_index\n",
    "\n",
    "    return ''.join(decoded_words)"
   ]
  },
  {
   "cell_type": "code",
   "execution_count": 38,
   "id": "3fbe41c3-c7e8-4eee-9b28-93ce38c4699b",
   "metadata": {},
   "outputs": [
    {
     "name": "stdout",
     "output_type": "stream",
     "text": [
      "1/1 [==============================] - 1s 1s/step\n",
      "1/1 [==============================] - 0s 48ms/step\n",
      "1/1 [==============================] - 0s 45ms/step\n",
      "1/1 [==============================] - 0s 51ms/step\n",
      "1/1 [==============================] - 0s 51ms/step\n",
      "1/1 [==============================] - 0s 59ms/step\n",
      "1/1 [==============================] - 0s 46ms/step\n",
      "1/1 [==============================] - 0s 54ms/step\n",
      "1/1 [==============================] - 0s 52ms/step\n",
      "1/1 [==============================] - 0s 47ms/step\n",
      "1/1 [==============================] - 0s 55ms/step\n",
      "1/1 [==============================] - 0s 49ms/step\n",
      "1/1 [==============================] - 0s 51ms/step\n",
      "1/1 [==============================] - 0s 51ms/step\n",
      "1/1 [==============================] - 0s 48ms/step\n",
      "1/1 [==============================] - 0s 51ms/step\n",
      "1/1 [==============================] - 0s 52ms/step\n",
      "1/1 [==============================] - 0s 47ms/step\n",
      "1/1 [==============================] - 0s 49ms/step\n",
      "1/1 [==============================] - 0s 61ms/step\n",
      "1/1 [==============================] - 0s 50ms/step\n",
      "1/1 [==============================] - 0s 51ms/step\n",
      "1/1 [==============================] - 0s 53ms/step\n",
      "1/1 [==============================] - 0s 46ms/step\n",
      "Input: elaunnaru\n",
      "Output: start> ఎలాఉన్నారు <end>\n"
     ]
    }
   ],
   "source": [
    "sample_input = \"elaunnaru\"\n",
    "sample_input_seq = char_tokenizer.texts_to_sequences([sample_input])\n",
    "sample_input_seq = pad_sequences(sample_input_seq, maxlen=max_source_len, padding='post')\n",
    "decoded_output = decode_sequence(sample_input_seq)\n",
    "print(f\"Input: {sample_input}\")\n",
    "print(f\"Output: {decoded_output}\")"
   ]
  },
  {
   "cell_type": "code",
   "execution_count": null,
   "id": "6564739e-efaa-400b-ac0d-9856717305b9",
   "metadata": {},
   "outputs": [],
   "source": []
  },
  {
   "cell_type": "code",
   "execution_count": 39,
   "id": "5d513367-4fda-4217-b6dc-382d92ca582b",
   "metadata": {},
   "outputs": [],
   "source": [
    "\n",
    "from flask import Flask, render_template, request\n",
    "import pickle\n",
    "import numpy as np\n"
   ]
  },
  {
   "cell_type": "code",
   "execution_count": 40,
   "id": "ff821b2d-f74a-4964-a8e1-3a3efbb8d8f2",
   "metadata": {},
   "outputs": [],
   "source": [
    "app = Flask(__name__)"
   ]
  },
  {
   "cell_type": "code",
   "execution_count": 41,
   "id": "d2e52cde-4b65-459d-8ef5-8f2bb8620dd9",
   "metadata": {},
   "outputs": [],
   "source": [
    "@app.route('/')\n",
    "def liefs():\n",
    "    print(\"Hi Reached the page\")\n",
    "    return render_template('home.html')"
   ]
  },
  {
   "cell_type": "code",
   "execution_count": 42,
   "id": "0aca1c7e-941e-4e2f-84dc-16d741d6c99c",
   "metadata": {},
   "outputs": [],
   "source": [
    "# pip install googletrans==4.0.0-rc1\n",
    "# !pip install textblob"
   ]
  },
  {
   "cell_type": "code",
   "execution_count": null,
   "id": "6ccd23e0-689c-4d95-9744-d1ea107444c5",
   "metadata": {},
   "outputs": [],
   "source": []
  },
  {
   "cell_type": "code",
   "execution_count": 43,
   "id": "8c1ae429-2115-42d5-9c3d-f8143ff27278",
   "metadata": {},
   "outputs": [],
   "source": [
    "from googletrans import Translator\n",
    "\n",
    "def translate_te_to_en(text):\n",
    "    translator = Translator()\n",
    "    translated = translator.translate(text, src='te', dest='en')\n",
    "    return translated.text\n",
    "\n",
    "\n"
   ]
  },
  {
   "cell_type": "code",
   "execution_count": 44,
   "id": "e99b15b1-10bc-4702-b002-1e49a3056482",
   "metadata": {},
   "outputs": [],
   "source": [
    "# telugu_text = \"మీరు ఎలా ఉన్నారు?\"\n",
    "# english_translation = translate_te_to_en(telugu_text)\n",
    "# print(f\"Telugu: {telugu_text}\")\n",
    "# # print(f\"English: {english_translation}\")"
   ]
  },
  {
   "cell_type": "code",
   "execution_count": null,
   "id": "5ef2532f-a4ca-41cd-a9be-e0d1cf142f07",
   "metadata": {},
   "outputs": [],
   "source": []
  },
  {
   "cell_type": "code",
   "execution_count": 45,
   "id": "f2660e14-7dec-4e9c-b4b9-95bf4a8f64c1",
   "metadata": {},
   "outputs": [],
   "source": [
    "def telugu_out(s):\n",
    "    return render_template('home.html', telen_text=s)\n",
    "    "
   ]
  },
  {
   "cell_type": "code",
   "execution_count": 46,
   "id": "e92646e5-40af-4147-b52c-511f6aa13b85",
   "metadata": {},
   "outputs": [],
   "source": [
    "def english_out(s):\n",
    "    return render_template('home.html', transliterated_text=s)"
   ]
  },
  {
   "cell_type": "code",
   "execution_count": 47,
   "id": "7b630d02-dd13-478a-b875-45229f66ec4b",
   "metadata": {},
   "outputs": [],
   "source": [
    "@app.route('/pt',methods=['POST'])\n",
    "def pt():\n",
    "    temp=[]\n",
    "    res=[]\n",
    "    if request.method == 'POST':\n",
    "        print(\"The request is recieved\")\n",
    "        input_text=request.form['input-text']\n",
    "        a = input_text.split(\" \")\n",
    "        print(a)\n",
    "        temp.append(input_text)\n",
    "        print(temp)\n",
    "        ans = []\n",
    "        res = []\n",
    "        for i in a:\n",
    "            sample_input = i\n",
    "            sample_input_seq = char_tokenizer.texts_to_sequences([sample_input])\n",
    "            sample_input_seq = pad_sequences(sample_input_seq, maxlen=max_source_len, padding='post')\n",
    "            decoded_output = decode_sequence(sample_input_seq)\n",
    "            decoded_output = decoded_output.replace('start', '').replace('end', '').strip()\n",
    "            decoded_output = decoded_output.replace('>', '').replace('<', '').strip()\n",
    "            telugu_out(decoded_output)\n",
    "            ans.append(decoded_output)\n",
    "            english_output = translate_te_to_en(decoded_output)\n",
    "            english_output = english_output.replace('start', '').replace('end', '').strip()\n",
    "            english_output = english_output.replace('>', '').replace('<', '').strip()\n",
    "            english_out(english_output)\n",
    "            res.append(english_output)\n",
    "            print(f\"Input: {sample_input}\")\n",
    "            print(f\"Output: {decoded_output}\", end=\" \")\n",
    "            s=\" \".join(ans)\n",
    "            h=\" \".join(res)\n",
    "            s=s + \"<----->\" + h\n",
    "            # dec=render_template('home.html', transliterated_text=s)\n",
    "            \n",
    "        \n",
    "        \n",
    "        \n",
    "        \n",
    "\n",
    "    #int_features = [float(x) for x in request.form.values()] #Convert string inputs to float.\n",
    "    return render_template('home.html', transliterated_text=s)"
   ]
  },
  {
   "cell_type": "code",
   "execution_count": 48,
   "id": "43101dfd-b374-4576-a6cb-949a08480d42",
   "metadata": {},
   "outputs": [],
   "source": [
    "# !pip install --upgrade textblob\n"
   ]
  },
  {
   "cell_type": "code",
   "execution_count": 49,
   "id": "a72115ee-7cdb-4c66-a334-45f4c793c2c0",
   "metadata": {},
   "outputs": [],
   "source": [
    "# from textblob import TextBlob\n",
    "\n",
    "# def translate_te_en(text):\n",
    "#     blob = TextBlob(text)\n",
    "#     translated_text = blob.translate(from_lang='te', to='en')\n",
    "#     return str(translated_text)\n"
   ]
  },
  {
   "cell_type": "code",
   "execution_count": 50,
   "id": "1bc6634e-dba3-47ad-8398-1687c5c2ced3",
   "metadata": {},
   "outputs": [],
   "source": [
    "# telugu_text = \"మీరు ఎలా ఉన్నారు?\"\n",
    "# english_translation = translate_te_en(telugu_text)\n",
    "# print(f\"Telugu: {telugu_text}\")\n",
    "# print(f\"English: {english_translation}\")"
   ]
  },
  {
   "cell_type": "code",
   "execution_count": 51,
   "id": "4e5841ce-ffae-49e5-9f4b-3546bc3a6ba3",
   "metadata": {},
   "outputs": [
    {
     "name": "stdout",
     "output_type": "stream",
     "text": [
      "3.8.19 (default, Mar 20 2024, 19:55:45) [MSC v.1916 64 bit (AMD64)]\n"
     ]
    }
   ],
   "source": [
    "import sys\n",
    "print(sys.version)"
   ]
  },
  {
   "cell_type": "code",
   "execution_count": 52,
   "id": "43589751-ff5b-4fbb-bd14-5785340c9c83",
   "metadata": {},
   "outputs": [],
   "source": [
    "# !pip install nltk pattern\n",
    "\n"
   ]
  },
  {
   "cell_type": "code",
   "execution_count": 53,
   "id": "fe483089-35f4-479d-a24f-016d1bf85a15",
   "metadata": {},
   "outputs": [],
   "source": [
    "\n",
    "\n",
    "\n",
    "# telugu_text = \"మీరు ఎలా ఉన్నారు?\"\n",
    "# english_translation = translate_te_to_en(telugu_text)\n",
    "# print(f\"Telugu: {telugu_text}\")\n",
    "# print(f\"English: {english_translation}\")"
   ]
  },
  {
   "cell_type": "code",
   "execution_count": null,
   "id": "1e126f3d-10cb-453d-b2e6-67b9de17afbd",
   "metadata": {},
   "outputs": [
    {
     "name": "stdout",
     "output_type": "stream",
     "text": [
      " * Serving Flask app '__main__'\n",
      " * Debug mode: on\n"
     ]
    },
    {
     "name": "stderr",
     "output_type": "stream",
     "text": [
      "WARNING: This is a development server. Do not use it in a production deployment. Use a production WSGI server instead.\n",
      " * Running on http://127.0.0.1:5000\n",
      "Press CTRL+C to quit\n"
     ]
    },
    {
     "name": "stdout",
     "output_type": "stream",
     "text": [
      "The request is recieved\n",
      "['elaunnaru']\n",
      "['elaunnaru']\n",
      "1/1 [==============================] - 0s 61ms/step\n",
      "1/1 [==============================] - 0s 56ms/step\n",
      "1/1 [==============================] - 0s 61ms/step\n",
      "1/1 [==============================] - 0s 54ms/step\n",
      "1/1 [==============================] - 0s 58ms/step\n",
      "1/1 [==============================] - 0s 67ms/step\n",
      "1/1 [==============================] - 0s 60ms/step\n",
      "1/1 [==============================] - 0s 63ms/step\n",
      "1/1 [==============================] - 0s 58ms/step\n",
      "1/1 [==============================] - 0s 59ms/step\n",
      "1/1 [==============================] - 0s 49ms/step\n",
      "1/1 [==============================] - 0s 51ms/step\n",
      "1/1 [==============================] - 0s 51ms/step\n",
      "1/1 [==============================] - 0s 51ms/step\n",
      "1/1 [==============================] - 0s 53ms/step\n",
      "1/1 [==============================] - 0s 58ms/step\n",
      "1/1 [==============================] - 0s 60ms/step\n",
      "1/1 [==============================] - 0s 54ms/step\n",
      "1/1 [==============================] - 0s 58ms/step\n",
      "1/1 [==============================] - 0s 55ms/step\n",
      "1/1 [==============================] - 0s 52ms/step\n",
      "1/1 [==============================] - 0s 52ms/step\n",
      "1/1 [==============================] - 0s 55ms/step\n",
      "1/1 [==============================] - 0s 47ms/step\n"
     ]
    },
    {
     "name": "stderr",
     "output_type": "stream",
     "text": [
      "127.0.0.1 - - [03/Sep/2024 13:59:01] \"POST /pt HTTP/1.1\" 200 -\n",
      "127.0.0.1 - - [03/Sep/2024 13:59:01] \"GET /static/css/styles_2.css HTTP/1.1\" 304 -\n",
      "127.0.0.1 - - [03/Sep/2024 13:59:01] \"GET /Minor%20Project/static/js/script.js HTTP/1.1\" 404 -\n",
      "127.0.0.1 - - [03/Sep/2024 13:59:01] \"GET /static/images/logo.png HTTP/1.1\" 304 -\n"
     ]
    },
    {
     "name": "stdout",
     "output_type": "stream",
     "text": [
      "Input: elaunnaru\n",
      "Output: ఎలాఉన్నారు "
     ]
    }
   ],
   "source": [
    "if __name__ == \"__main__\":\n",
    "    app.run(debug=True, use_reloader=False)"
   ]
  },
  {
   "cell_type": "code",
   "execution_count": null,
   "id": "47f3a9ac-d531-465e-bd5d-28d76c50dd53",
   "metadata": {},
   "outputs": [],
   "source": []
  },
  {
   "cell_type": "code",
   "execution_count": null,
   "id": "e0798fc5-7602-408e-83b6-388689671b19",
   "metadata": {},
   "outputs": [],
   "source": []
  },
  {
   "cell_type": "code",
   "execution_count": null,
   "id": "e7f11bfb-92ed-4f3f-a0ab-e10ea62c5e2a",
   "metadata": {},
   "outputs": [],
   "source": []
  },
  {
   "cell_type": "code",
   "execution_count": null,
   "id": "f9d28b23-e652-424a-b1c5-c8f4a0fa740b",
   "metadata": {},
   "outputs": [],
   "source": []
  },
  {
   "cell_type": "code",
   "execution_count": null,
   "id": "432834b6-8826-4924-ae4e-b06d2147f053",
   "metadata": {},
   "outputs": [],
   "source": []
  }
 ],
 "metadata": {
  "kernelspec": {
   "display_name": "Python 3 (ipykernel)",
   "language": "python",
   "name": "python3"
  },
  "language_info": {
   "codemirror_mode": {
    "name": "ipython",
    "version": 3
   },
   "file_extension": ".py",
   "mimetype": "text/x-python",
   "name": "python",
   "nbconvert_exporter": "python",
   "pygments_lexer": "ipython3",
   "version": "3.8.19"
  }
 },
 "nbformat": 4,
 "nbformat_minor": 5
}
